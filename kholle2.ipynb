{
 "cells": [
  {
   "cell_type": "markdown",
   "metadata": {},
   "source": [
    "Exercice 1 :"
   ]
  },
  {
   "cell_type": "code",
   "execution_count": 26,
   "metadata": {},
   "outputs": [
    {
     "name": "stdout",
     "output_type": "stream",
     "text": [
      "[2, 8, 9, 7, 10, 13, 0, 0, 0]\n"
     ]
    }
   ],
   "source": [
    "liste1 = [2, 8, 0, 9, 0, 7, 10, 0, 13]\n",
    "liste2 = []\n",
    "liste2.extend(liste1)\n",
    "for i in range(len(liste2)):\n",
    "    if liste2[i] == 0:\n",
    "        liste2.remove(liste2[i])\n",
    "        liste2.append(0)\n",
    "print(liste2)"
   ]
  },
  {
   "cell_type": "markdown",
   "metadata": {},
   "source": [
    "Exercice 2 :"
   ]
  },
  {
   "cell_type": "code",
   "execution_count": 6,
   "metadata": {},
   "outputs": [
    {
     "name": "stdout",
     "output_type": "stream",
     "text": [
      "[[5, 1, 2], [3, 5, 1], [5, 4, 1], [5], [2, 1], [], [4]]\n",
      "\n",
      "[[0, 3], [0], [], [1, 3], [2, 0], [2], [4]]\n",
      "\n",
      "[[0], [], [2, 5], [3, 5], [3, 1, 4], [3, 4, 3], [4]]\n",
      "\n",
      "[[], [4, 5, 2], [], [5, 5, 2], [2, 0], [4, 0], [2, 0, 2]]\n",
      "\n",
      "[[3, 0], [2, 4], [], [5, 5, 3], [4, 5, 2], [0, 0], []]\n",
      "\n",
      "[[], [4], [2], [0], [], [], [5, 4, 5]]\n",
      "\n",
      "[[0, 1, 5], [4], [5, 2, 2], [4], [2], [5, 3, 5], []]\n",
      "\n"
     ]
    }
   ],
   "source": [
    "import random\n",
    "\n",
    "n = 5\n",
    "\n",
    "def plan_jour(n):\n",
    "    planning_jour = []\n",
    "    for i in range(random.randint(0, 3)):\n",
    "        planning_jour.append(random.randint(0, n))\n",
    "    return planning_jour\n",
    "\n",
    "def plan_semaine(n):\n",
    "    planning_semaine = []\n",
    "    for i in range(7):\n",
    "        planning_semaine.append(plan_jour(n))\n",
    "    return planning_semaine\n",
    "\n",
    "def affiche():\n",
    "    for i in range(7):\n",
    "        print(f\"{plan_semaine(n)}\\n\")\n",
    "\n",
    "affiche()"
   ]
  },
  {
   "cell_type": "code",
   "execution_count": null,
   "metadata": {},
   "outputs": [],
   "source": []
  }
 ],
 "metadata": {
  "kernelspec": {
   "display_name": "l1-python",
   "language": "python",
   "name": "python3"
  },
  "language_info": {
   "codemirror_mode": {
    "name": "ipython",
    "version": 3
   },
   "file_extension": ".py",
   "mimetype": "text/x-python",
   "name": "python",
   "nbconvert_exporter": "python",
   "pygments_lexer": "ipython3",
   "version": "3.11.6"
  }
 },
 "nbformat": 4,
 "nbformat_minor": 2
}
