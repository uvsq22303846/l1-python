{
 "cells": [
  {
   "cell_type": "markdown",
   "metadata": {},
   "source": [
    "Exercice 1 : car les opérations sur les flottants ne donnent pas un résultat exact en Python. En l'occurrence, le résultat est de 0.19999999999."
   ]
  },
  {
   "cell_type": "markdown",
   "metadata": {},
   "source": [
    "Exercice 2 :"
   ]
  },
  {
   "cell_type": "code",
   "execution_count": null,
   "metadata": {},
   "outputs": [],
   "source": [
    "print(\"Bonjour. Il va vous être demandé de rentrer les longueurs des trois côtés d'un triangle.\")\n",
    "cote_long = int(input(\"Entrez la longueur du côté le plus long de votre triangle : \"))\n",
    "cote_court = int(input(\"Entrez la longueur du côté le plus court de votre triangle : \"))\n",
    "dernier_cote = int(input(\"Entrez la longueur du dernier côté de votre triangle : \"))\n",
    "\n",
    "if cote_court **2 + dernier_cote ** 2 == cote_long ** 2:\n",
    "    print(\"Votre triangle est rectangle.\")\n",
    "else:\n",
    "    print(\"Votre triangle n'est pas rectangle.\")"
   ]
  },
  {
   "cell_type": "markdown",
   "metadata": {},
   "source": [
    "Exercice 3 :"
   ]
  },
  {
   "cell_type": "code",
   "execution_count": 12,
   "metadata": {},
   "outputs": [
    {
     "name": "stdout",
     "output_type": "stream",
     "text": [
      "40\n"
     ]
    }
   ],
   "source": [
    "n = 13\n",
    "\n",
    "if n % 2 == 0:\n",
    "    while n != 1:\n",
    "        n = n / 2\n",
    "        print(n)\n",
    "elif n % 2 != 0:\n",
    "    while n % 2 != 0:\n",
    "        n = n * 3 + 1\n",
    "        print(n)"
   ]
  }
 ],
 "metadata": {
  "kernelspec": {
   "display_name": "l1-python",
   "language": "python",
   "name": "python3"
  },
  "language_info": {
   "codemirror_mode": {
    "name": "ipython",
    "version": 3
   },
   "file_extension": ".py",
   "mimetype": "text/x-python",
   "name": "python",
   "nbconvert_exporter": "python",
   "pygments_lexer": "ipython3",
   "version": "3.11.5"
  }
 },
 "nbformat": 4,
 "nbformat_minor": 2
}
