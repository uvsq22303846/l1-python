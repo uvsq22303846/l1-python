{
 "cells": [
  {
   "cell_type": "markdown",
   "metadata": {},
   "source": [
    "**Exercice 1:**\n",
    "\n",
    "Soit une liste d'entiers, il s'agit d'écrire une fonction qui renvoie les couples des indices d'éléments de la liste, de telle sorte que la somme de ces deux éléments est égale à la valeur cible choisie.\n",
    "\n",
    "Par exemple : \n",
    "somme_2([-2, -1, 2, 1], cible = 0) doit renvoyer [(0, 2), (1, 3)] car les deux nombres aux indices 0 et 2, c'est-à-dire respectivement -2 et 2, donnent la valeur cible 0 si on les additionne. De même pour le couple (1, 3). \n",
    "\n",
    "Si la cible ne peut être atteinte avec les entrées, la fonction renvoie une liste vide : []. Les indices renvoyés dans un couple doivent être différents : (i, j) tels que i ≠ j."
   ]
  },
  {
   "cell_type": "code",
   "execution_count": null,
   "metadata": {},
   "outputs": [],
   "source": []
  },
  {
   "cell_type": "markdown",
   "metadata": {},
   "source": [
    "**Exercice 2:**\n",
    "\n",
    "Un plateau est une liste à deux dimensions qui contient des Booléens. Si plateau[i][j]\n",
    "vaut True, il y a un mur et sinon la case est libre.\n",
    "\n",
    "Exemple :  plateau = [[True, False, False, False],\n",
    "                      [False, True, True, False]]\n",
    "\n",
    "Le but de l’exercice est d’écrire une fonction chemin prenant en paramètres un plateau et les coordonnées de deux cases deb et fin et renvoie True si l’on peut aller de la case deb à la case fin en se déplacant horizontalement et verticalement.\n",
    "\n",
    "Dans notre exemple, chemin(plateau,(1,3),(1,0)) renverra False et chemin(plateau,(1,3),(0,1)) renverra True.\n",
    "\n",
    "1. Ecrire une fonction voisinsCase qui prend un plateau et une case et renvoie l’ensemble de ces voisins immédiats horizontaux ou verticaux qui sont sur le plateau et qui sont libres.\n",
    "\n",
    "2. Ecrire une fonction voisinsCases qui prend un plateau et un ensemble de cases et renvoie l’ensemble de tous les voisins de ces cases.\n",
    "\n",
    "3. Ecrire une fonction accessibles qui prend un plateau et une case et renvoie l’ensemble des cases que l’on peut atteindre depuis cette case en se déplacant horizontalement et verticalement.\n",
    "\n",
    "4. Ecrire la fonction chemin."
   ]
  },
  {
   "cell_type": "code",
   "execution_count": 5,
   "metadata": {},
   "outputs": [
    {
     "name": "stdout",
     "output_type": "stream",
     "text": [
      "[]\n",
      "[[], [5], []]\n",
      "[0.7, 0.7]\n"
     ]
    }
   ],
   "source": []
  }
 ],
 "metadata": {
  "kernelspec": {
   "display_name": "Python 3.9.7 ('l1-python')",
   "language": "python",
   "name": "python3"
  },
  "language_info": {
   "codemirror_mode": {
    "name": "ipython",
    "version": 3
   },
   "file_extension": ".py",
   "mimetype": "text/x-python",
   "name": "python",
   "nbconvert_exporter": "python",
   "pygments_lexer": "ipython3",
   "version": "3.9.7"
  },
  "orig_nbformat": 4,
  "vscode": {
   "interpreter": {
    "hash": "7d87edbe593bf1e4e96623606fa487dbb5c6e9299b74648cb83b1cd8ad219f97"
   }
  }
 },
 "nbformat": 4,
 "nbformat_minor": 2
}
