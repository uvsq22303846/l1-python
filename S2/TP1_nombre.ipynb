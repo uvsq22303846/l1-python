{
 "cells": [
  {
   "cell_type": "markdown",
   "metadata": {},
   "source": [
    "# TD1 Représentation de nombres"
   ]
  },
  {
   "cell_type": "markdown",
   "metadata": {},
   "source": [
    "Exercice sur papier:\n",
    "\n",
    "1. Convertir en binaire le nombre 115 (division successive par 2).\n",
    "2. Donner la représentation de -115 en complément à 2 sur 8 bits.\n",
    "3. Donner la représentation de 12,625 comme un flottant. "
   ]
  },
  {
   "cell_type": "markdown",
   "metadata": {},
   "source": [
    "On représente un entier en binaire par une liste de 0 et de 1. Donner une fonction `conversionBase2(nombre)`\n",
    "qui transforme un entier en sa représentation binaire. Attention, les bits sont calculés dans l'ordre inverse\n",
    "(little endian), il faudra sans doute renverser la liste avec la méthode `.reverse()`."
   ]
  },
  {
   "cell_type": "code",
   "execution_count": 12,
   "metadata": {},
   "outputs": [
    {
     "name": "stdout",
     "output_type": "stream",
     "text": [
      "[1, 1, 1, 0, 0, 1, 1]\n"
     ]
    }
   ],
   "source": [
    "def conversionBase2(nombre):\n",
    "    if(nombre==0):\n",
    "        return [0]\n",
    "    res = []\n",
    "    while nombre != 0:\n",
    "        res.append(nombre % 2)\n",
    "        nombre //= 2\n",
    "    res.reverse()\n",
    "    return res\n",
    "    \n",
    "print(conversionBase2(115))"
   ]
  },
  {
   "cell_type": "markdown",
   "metadata": {},
   "source": [
    "Faire une fonction d'affichage d'une liste représentant un nombre en binaire. Pour afficher avec `print` sans passer à la ligne il faut utiliser l'argument optionnel end=\"\"."
   ]
  },
  {
   "cell_type": "code",
   "execution_count": 46,
   "metadata": {},
   "outputs": [
    {
     "name": "stdout",
     "output_type": "stream",
     "text": [
      "1110011"
     ]
    }
   ],
   "source": [
    "def afficheBase(liste):\n",
    "    for bit in liste:\n",
    "        print(bit, end=\"\")\n",
    "afficheBase(conversionBase2(115))"
   ]
  },
  {
   "cell_type": "markdown",
   "metadata": {},
   "source": [
    "Convertir un nombre dans n'importe quelle base b (représentée comme une liste des chiffres dans cette base).\n",
    "Que faut-il changer dans `conversionBase2` pour gérer n'importe quelle base ?"
   ]
  },
  {
   "cell_type": "code",
   "execution_count": 49,
   "metadata": {},
   "outputs": [
    {
     "name": "stdout",
     "output_type": "stream",
     "text": [
      "1110011\n",
      "\n",
      "11021"
     ]
    }
   ],
   "source": [
    "def conversionBase(nombre,b):\n",
    "    if(nombre==0):\n",
    "        return [0]\n",
    "    res = []\n",
    "    while nombre != 0:\n",
    "        res.append(nombre % b)\n",
    "        nombre //= b\n",
    "    res.reverse()\n",
    "    return res\n",
    "\n",
    "afficheBase(conversionBase(115,2))\n",
    "print(\"\\n\")\n",
    "afficheBase(conversionBase(115,3))"
   ]
  },
  {
   "cell_type": "markdown",
   "metadata": {},
   "source": [
    "Quels sont les nombres entiers qu'on peut écrire avec n chiffres en base b ?"
   ]
  },
  {
   "cell_type": "markdown",
   "metadata": {},
   "source": [
    "Écrire une fonction d'affichage pour un nombre en Hexadécimal (en base 16).\n",
    "On rappelle que 10 doit être représenté par A, 11 par B ..."
   ]
  },
  {
   "cell_type": "code",
   "execution_count": 59,
   "metadata": {},
   "outputs": [
    {
     "name": "stdout",
     "output_type": "stream",
     "text": [
      "22B8"
     ]
    }
   ],
   "source": [
    "def afficheBaseHexa(liste):\n",
    "    for v in liste:\n",
    "        if v < 10:\n",
    "            print(v, end = \"\")\n",
    "        else:\n",
    "            print(chr(v + 55), end=\"\")\n",
    "\n",
    "afficheBaseHexa(conversionBase(8888,16))"
   ]
  },
  {
   "cell_type": "markdown",
   "metadata": {},
   "source": [
    "Donner la valeur de $(1001101)_2$ (dans la représentation traditionnelle en base 10).\n",
    "Écrire une fonction qui transforme la représentation en base b d'un entier en cet entier."
   ]
  },
  {
   "cell_type": "code",
   "execution_count": 75,
   "metadata": {},
   "outputs": [
    {
     "data": {
      "text/plain": [
       "115"
      ]
     },
     "execution_count": 75,
     "metadata": {},
     "output_type": "execute_result"
    }
   ],
   "source": [
    "def conversionEntier(liste,b):\n",
    "    res = 0\n",
    "    for v in liste:\n",
    "        res = b*res + v\n",
    "    return res\n",
    "\n",
    "test = conversionBase(115,2)\n",
    "conversionEntier(test,2)"
   ]
  },
  {
   "cell_type": "markdown",
   "metadata": {},
   "source": [
    "Additioner $(10001101)_2$ et $(10111001)_2$ à la main. "
   ]
  },
  {
   "cell_type": "markdown",
   "metadata": {},
   "source": [
    "On a `l` un nombre en base b et on veut l'écrire sur n chiffres (en ajoutant des 0 devant). Donner une fonction pour réaliser cette transformation."
   ]
  },
  {
   "cell_type": "code",
   "execution_count": null,
   "metadata": {},
   "outputs": [],
   "source": [
    "def etendreEcriture(l,n):\n",
    "    #ajouter le code ici\n",
    "    return l\n",
    "\n",
    "etendreEcriture(test,10)"
   ]
  },
  {
   "cell_type": "markdown",
   "metadata": {},
   "source": [
    "Réaliser ensuite un programme qui additionne la représentation en base b de deux entiers.\n",
    "On pourra utiliser la méthode `.insert(pos,val)` qui ajoute val à la position pos."
   ]
  },
  {
   "cell_type": "code",
   "execution_count": 104,
   "metadata": {},
   "outputs": [
    {
     "name": "stdout",
     "output_type": "stream",
     "text": [
      "11001"
     ]
    }
   ],
   "source": [
    "\n",
    "#Algorithme d'addition du primaire\n",
    "\n",
    "def addition(l1,l2,b):\n",
    "    terme1 = conversionEntier(l1, b)\n",
    "    terme2 = conversionEntier(l2, b)\n",
    "    res = conversionBase(terme1 + terme2, b)\n",
    "    return res\n",
    "\n",
    "test1 = conversionBase(7,2)\n",
    "test2 = conversionBase(18,2)\n",
    "\n",
    "afficheBase(addition(test1,test2,2))"
   ]
  },
  {
   "cell_type": "markdown",
   "metadata": {},
   "source": [
    "La multiplication Égyptienne est basée sur la propriété suivante:\n",
    "* si x est pair, x*y = (x/2)*(y*2)\n",
    "* si x est impair, x*y = (x/2)*(y*2) + y\n",
    "\n",
    "Implémenter la multiplication et la division par 2 d'un nombre en binaire. \n",
    "S'en servir pour implémenter la multiplication Égyptienne en base 2. "
   ]
  },
  {
   "cell_type": "code",
   "execution_count": 100,
   "metadata": {},
   "outputs": [
    {
     "name": "stdout",
     "output_type": "stream",
     "text": [
      "1111100"
     ]
    },
    {
     "ename": "TypeError",
     "evalue": "unsupported operand type(s) for *: 'NoneType' and 'NoneType'",
     "output_type": "error",
     "traceback": [
      "\u001b[0;31m---------------------------------------------------------------------------\u001b[0m",
      "\u001b[0;31mTypeError\u001b[0m                                 Traceback (most recent call last)",
      "Cell \u001b[0;32mIn[100], line 35\u001b[0m\n\u001b[1;32m     33\u001b[0m test1 \u001b[38;5;241m=\u001b[39m conversionBase(\u001b[38;5;241m15\u001b[39m,\u001b[38;5;241m2\u001b[39m)\n\u001b[1;32m     34\u001b[0m test2 \u001b[38;5;241m=\u001b[39m conversionBase(\u001b[38;5;241m6\u001b[39m,\u001b[38;5;241m2\u001b[39m)\n\u001b[0;32m---> 35\u001b[0m multiplication_egyptienne(test1,test2)\n",
      "Cell \u001b[0;32mIn[100], line 27\u001b[0m, in \u001b[0;36mmultiplication_egyptienne\u001b[0;34m(l1, l2)\u001b[0m\n\u001b[1;32m     25\u001b[0m     res_xy \u001b[38;5;241m=\u001b[39m conversionBase(xy, \u001b[38;5;241m2\u001b[39m)\n\u001b[1;32m     26\u001b[0m \u001b[38;5;28;01melse\u001b[39;00m:\n\u001b[0;32m---> 27\u001b[0m     xy \u001b[38;5;241m=\u001b[39m conversionEntier(division2(l1) \u001b[38;5;241m*\u001b[39m multiplication2(l2) \u001b[38;5;241m+\u001b[39m l2, \u001b[38;5;241m2\u001b[39m)\n\u001b[1;32m     28\u001b[0m     res_xy \u001b[38;5;241m=\u001b[39m conversionBase(xy, \u001b[38;5;241m2\u001b[39m)\n\u001b[1;32m     30\u001b[0m \u001b[38;5;28;01mreturn\u001b[39;00m afficheBase(res_xy)\n",
      "\u001b[0;31mTypeError\u001b[0m: unsupported operand type(s) for *: 'NoneType' and 'NoneType'"
     ]
    }
   ],
   "source": [
    "def division2(l):\n",
    "    terme = conversionEntier(l, 2)\n",
    "    res = conversionBase(terme // 2, 2)\n",
    "    return afficheBase(res)\n",
    "\n",
    "\n",
    "def multiplication2(l):\n",
    "    terme = conversionEntier(l, 2)\n",
    "    res = conversionBase(terme * 2, 2)\n",
    "    return afficheBase(res)\n",
    "    \n",
    "    \n",
    "def est_pair(l):\n",
    "    if (conversionEntier(l, 2) % 2) == 0:\n",
    "        return True\n",
    "    else:\n",
    "        return False\n",
    "\n",
    "def est_zero(l):\n",
    "    pass\n",
    "\n",
    "def multiplication_egyptienne(l1,l2):\n",
    "    if est_pair(l1) == True:\n",
    "        xy = conversionEntier(division2(l1) * multiplication2(l2), 2)\n",
    "        res_xy = conversionBase(xy, 2)\n",
    "    else:\n",
    "        xy = conversionEntier(division2(l1) * multiplication2(l2) + l2, 2)\n",
    "        res_xy = conversionBase(xy, 2)\n",
    "    \n",
    "    return afficheBase(res_xy)\n",
    "\n",
    "\n",
    "test1 = conversionBase(15,2)\n",
    "test2 = conversionBase(6,2)\n",
    "multiplication_egyptienne(test1,test2)     "
   ]
  },
  {
   "cell_type": "code",
   "execution_count": null,
   "metadata": {},
   "outputs": [],
   "source": []
  }
 ],
 "metadata": {
  "kernelspec": {
   "display_name": "base",
   "language": "python",
   "name": "python3"
  },
  "language_info": {
   "codemirror_mode": {
    "name": "ipython",
    "version": 3
   },
   "file_extension": ".py",
   "mimetype": "text/x-python",
   "name": "python",
   "nbconvert_exporter": "python",
   "pygments_lexer": "ipython3",
   "version": "3.11.5"
  },
  "vscode": {
   "interpreter": {
    "hash": "e5f921d2cbc40cc05b5a24db6ba0e6b62c33b50cc3ec097b0c624e897b5a9797"
   }
  }
 },
 "nbformat": 4,
 "nbformat_minor": 4
}
