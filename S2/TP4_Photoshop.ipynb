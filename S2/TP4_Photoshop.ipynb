{
 "cells": [
  {
   "cell_type": "markdown",
   "metadata": {},
   "source": [
    "# Petit Photoshop"
   ]
  },
  {
   "cell_type": "markdown",
   "metadata": {},
   "source": [
    "Importer les librairies suivantes :"
   ]
  },
  {
   "cell_type": "code",
   "execution_count": 6,
   "metadata": {},
   "outputs": [],
   "source": [
    "import tkinter as tk\n",
    "import numpy as np\n",
    "import PIL as pil\n",
    "from PIL import Image\n",
    "from PIL import ImageTk \n",
    "from tkinter import filedialog\n",
    "from tkinter import simpledialog"
   ]
  },
  {
   "attachments": {},
   "cell_type": "markdown",
   "metadata": {},
   "source": [
    "Ajouter les fonctions `save`et `load`à votre code."
   ]
  },
  {
   "cell_type": "code",
   "execution_count": 2,
   "metadata": {},
   "outputs": [],
   "source": [
    "def save(matPix, filename):\n",
    "    Image.fromarray(matPix).save(filename)\n",
    "\n",
    "def load(filename):\n",
    "    return np.array(pil.Image.open(filename))"
   ]
  },
  {
   "cell_type": "markdown",
   "metadata": {},
   "source": [
    "Ajouter la fonction `charger` qui permet d'afficher une image dans un canevas dans la colonne 1 d'une grid."
   ]
  },
  {
   "cell_type": "code",
   "execution_count": 3,
   "metadata": {},
   "outputs": [],
   "source": [
    "create=True\n",
    "nomImgCourante=\"\"\n",
    "nomImgDebut = \"\"\n",
    "\n",
    "def charger(widg):\n",
    "    global create\n",
    "    global photo\n",
    "    global img\n",
    "    global canvas\n",
    "    global dessin\n",
    "    global nomImgCourante\n",
    "    global nomImgDebut\n",
    "    filename= filedialog.askopenfile(mode='rb', title='Choose a file')\n",
    "    img = pil.Image.open(filename)\n",
    "    nomImgCourante=filename.name\n",
    "    nomImgDebut = filename.name\n",
    "    photo = ImageTk.PhotoImage(img)\n",
    "    if create:    \n",
    "        canvas = tk.Canvas(widg, width = img.size[0], height = img.size[1])\n",
    "        dessin = canvas.create_image(0,0,anchor = tk.NW, image=photo)\n",
    "        canvas.grid(row=0,column=1,rowspan=4,columnspan=2)\n",
    "        create=False\n",
    "        \n",
    "    else:\n",
    "        canvas.grid_forget()\n",
    "        canvas = tk.Canvas(widg, width = img.size[0], height = img.size[1])\n",
    "        dessin=canvas.create_image(0,0,anchor = tk.NW, image=photo)\n",
    "        canvas.grid(row=0,column=1,rowspan=4,columnspan=2)\n"
   ]
  },
  {
   "cell_type": "markdown",
   "metadata": {},
   "source": [
    "Ajouter la fonction `modify(matrice)` qui permet de modifier une matrice de pixels au sein même d'un canevas créé par la methode `charger()`, et la fonction callback `reaffiche` qui permet de réafficher l'image de départ après lui avoir appliqué des effets."
   ]
  },
  {
   "cell_type": "code",
   "execution_count": 4,
   "metadata": {},
   "outputs": [],
   "source": [
    "def modify(matrice):\n",
    "    global imgModif\n",
    "    global nomImgCourante\n",
    "    save(matrice,\"modif.png\")\n",
    "    imgModif=ImageTk.PhotoImage(file=\"modif.png\")\n",
    "    canvas.itemconfigure(dessin, image=imgModif)\n",
    "    canvas['width'] = imgModif.width()\n",
    "    canvas['height'] = imgModif.height()\n",
    "    nomImgCourante=\"modif.png\"\n",
    "\n",
    "def reaffiche():\n",
    "    global imgDebut\n",
    "    global nomImgCourante\n",
    "    if not create :\n",
    "        imgDebut=ImageTk.PhotoImage(file=nomImgDebut)\n",
    "        canvas.itemconfigure(dessin, image=imgDebut)\n",
    "        canvas['width'] = imgDebut.width()\n",
    "        canvas['height'] = imgDebut.height()\n",
    "        nomImgCourante = nomImgDebut"
   ]
  },
  {
   "cell_type": "markdown",
   "metadata": {},
   "source": [
    "Créez une fenêtre tkinter appelée \"Mon Petit Photoshop\", dans laquelle vous mettrez un bouton pour chacune des fonctions de traitement d'image que vous allez écrire. Vous mettrez égalment un bouton pour *charger* une image, un bouton pour *quitter la fenêtre* et un bouton pour *revenir à l'image de départ* en utilisant la fonction callback `reaffiche`. Vous ajouterez également un label contenant votre nom, prénom et numéro d'étudiant. Vous pourrez ajouter un bouton pour sauvegarder l'image, éventuellement sous un nouveau nom. ATTENTION : L'image est placée grâce à la méthode `grid` et elle couvre les colonnes 1 et 2 et les lignes 0,1,2 et 3."
   ]
  },
  {
   "cell_type": "markdown",
   "metadata": {},
   "source": [
    "Mise en Page \n",
    "1. Vous placerez les boutons pour les fonctions de traitement d'image dans la colonne 0 d'une grid respectivement\n",
    "    aux lignes 0,1,2\n",
    "1. Le bouton `Retour` (pour revenir à l'image de départ) sera placé dans la colonne 0 à l'avant dernière ligne\n",
    "1. Le bouton `Charger` sera placé dans la colonne 0 dans la dernière ligne\n",
    "1. Le bouton `Quitter` sera placé dans la dernière colonne et la dernière ligne\n",
    "1. Le label sera placé juste sous l'image, entre les boutons `Charger` et `Quitter`\n",
    " \n",
    "Si tout fonctionne, regardez la doc tkinter pour rendre ça un peu plus \"joli\"."
   ]
  },
  {
   "cell_type": "code",
   "execution_count": 25,
   "metadata": {},
   "outputs": [],
   "source": [
    "create=True\n",
    "#Fonctions auxiliaires \n",
    "    \n",
    "root = tk.Tk()\n",
    "root.title(\"Mon Petit Photoshop\")\n",
    "\n",
    "bouton_charger = tk.Button(root, text = \"Charger l'image\", command = lambda: charger(root))\n",
    "bouton_charger.grid(column = 1, row = 6)\n",
    "\n",
    "bouton_retour = tk.Button(root, text = \"Retour\", command = reaffiche)\n",
    "bouton_retour.grid(column = 3, row = 0)\n",
    "\n",
    "bouton_quitter = tk.Button(root, text = \"Quitter\", command = root.destroy)\n",
    "bouton_quitter.grid(column = 3, row = 6)\n",
    "\n",
    "bouton_modif_image_1 = tk.Button(root, text = \"Filtre vert\", command = filtre_vert)\n",
    "bouton_modif_image_1.grid(column = 0, row = 0)\n",
    "\n",
    "bouton_modif_image_2 = tk.Button(root, text = \"Image en niveaux de gris\", command = gris)\n",
    "bouton_modif_image_2.grid(column = 0, row = 1)\n",
    "\n",
    "bouton_modif_image_3 = tk.Button(root, text = \"Image en noir et blanc\", command = noirBlanc)\n",
    "bouton_modif_image_3.grid(column = 0, row = 2)\n",
    "\n",
    "bouton_modif_image_4 = tk.Button(root, text = \"Zoom\")\n",
    "bouton_modif_image_4.grid(column = 0, row = 3)\n",
    "\n",
    "bouton_modif_image_5 = tk.Button(root, text = \"Shrink\")\n",
    "bouton_modif_image_5.grid(column = 0, row = 4)\n",
    "\n",
    "#Création des Widgets\n",
    "\n",
    "\n",
    "#Positionnement des Widgets\n",
    "\n",
    "\n",
    "#Lancement de la boucle \n",
    "root.mainloop()"
   ]
  },
  {
   "attachments": {},
   "cell_type": "markdown",
   "metadata": {},
   "source": [
    "Modifiez les fonctions du TD précédent pour qu'elles deviennent des fonctions callback qui s'appliquent directement sur l'image dans le canevas. On donne la première comme exemple."
   ]
  },
  {
   "cell_type": "code",
   "execution_count": 21,
   "metadata": {},
   "outputs": [],
   "source": [
    "def filtre_vert():\n",
    "    mat=load(nomImgCourante)\n",
    "    for i in range(mat.shape[0]):\n",
    "        for j in range(mat.shape[1]):\n",
    "            mat[i,j]=(0,mat[i,j,1],0)\n",
    "    modify(mat)"
   ]
  },
  {
   "cell_type": "markdown",
   "metadata": {},
   "source": [
    "Faire une fonction qui permet de transformer une image en couleur en une image en niveau de gris."
   ]
  },
  {
   "cell_type": "code",
   "execution_count": 22,
   "metadata": {},
   "outputs": [],
   "source": [
    "def gris():\n",
    "    #On utilisera la conversion CIE709 qui permet de calculer la teinte de gris qui va être affichée dans le pixel\n",
    "    #La teinte affichée est : gris=0,2125*rouge + 0,0721*bleu + 0,7154*vert\n",
    "    mat=load(nomImgCourante)\n",
    "    for i in range(mat.shape[0]):\n",
    "        for j in range(mat.shape[1]):\n",
    "            gris = 0.2125 * mat[i, j, 0] + 0.0721 * mat[i, j, 1] + 0.7154 * mat[i, j, 2]\n",
    "            mat[i, j] = (gris, gris, gris)\n",
    "    modify(mat)\n"
   ]
  },
  {
   "cell_type": "markdown",
   "metadata": {},
   "source": [
    "Faire une fonction qui permet de transformer une image en couleur en une image en noir et blanc."
   ]
  },
  {
   "cell_type": "code",
   "execution_count": 24,
   "metadata": {},
   "outputs": [],
   "source": [
    "def noirBlanc():\n",
    "    mat=load(nomImgCourante)\n",
    "    for i in range(mat.shape[0]):\n",
    "        for j in range(mat.shape[1]):\n",
    "            luminosité = (1/3 * mat[i, j, 0] + 1/3 * mat[i, j, 1] + 1/3 * mat[i, j, 2])\n",
    "            if luminosité > 127:\n",
    "                mat[i, j] = (255, 255, 255)\n",
    "            else:\n",
    "                mat[i, j] = (0, 0, 0)\n",
    "    modify(mat)"
   ]
  },
  {
   "cell_type": "markdown",
   "metadata": {},
   "source": [
    "Donner une fonction qui multiplie par 4 la définition d'une image (chaque pixel donne un carré de 4 pixels)."
   ]
  },
  {
   "cell_type": "code",
   "execution_count": 26,
   "metadata": {},
   "outputs": [],
   "source": [
    "def zoom():\n",
    "    mat=load(nomImgCourante)\n",
    "    new_shape = (mat.shape[0] * 2, mat.shape[1] * 2, mat.shape[2])\n",
    "    zoomed_mat = np.zeros(new_shape, dtype = np.uint8)\n",
    "    for i in range(mat.shape[0]):\n",
    "        for j in range(mat.shape[1]):\n",
    "            zoomed_mat[2*i:2*i+2, 2*j:2*j+2] = mat[i, j]\n",
    "    modify(zoomed_mat)"
   ]
  },
  {
   "cell_type": "markdown",
   "metadata": {},
   "source": [
    "Donner une fonction qui divise par 4 la définition d'une image. Chaque carré de 4 pixels est remplacé par 1 pixel dont la valeur est la moyenne de ces 4 pixels."
   ]
  },
  {
   "cell_type": "code",
   "execution_count": null,
   "metadata": {},
   "outputs": [],
   "source": [
    "def shrink():\n",
    "    mat=load(nomImgCourante)\n",
    "    new_shape = (mat.shape[0] // 2, mat.shape[1] // 2, mat.shape[2])\n",
    "    shrunken_mat = np.zeros(new_shape, dtype = np.uint8)\n",
    "    for i in range(shrunken_mat.shape[0]):\n",
    "        for j in range(shrunken_mat.shape[1]):\n",
    "            shrunken_mat[i, j] = np.mean(mat[2 * i : 2 * i + 2, 2 * j : 2 * j + 2], axis = (0, 1))\n",
    "    modify(shrunken_mat)"
   ]
  },
  {
   "cell_type": "markdown",
   "metadata": {},
   "source": [
    "Combiner les fonctions `zoom` et `shrink` pour obtenir un effet poster (effet de perte de résolution)."
   ]
  },
  {
   "cell_type": "code",
   "execution_count": null,
   "metadata": {},
   "outputs": [],
   "source": [
    "def poster():\n",
    "    mat=load(nomImgCourante)\n",
    "    modify(mat)"
   ]
  },
  {
   "cell_type": "markdown",
   "metadata": {},
   "source": [
    "Donner une fonction qui effectue une rotation d'une image vers la droite."
   ]
  },
  {
   "cell_type": "code",
   "execution_count": null,
   "metadata": {},
   "outputs": [],
   "source": [
    "def rotate():\n",
    "    mat=load(nomImgCourante)\n",
    "    modify(mat)"
   ]
  },
  {
   "cell_type": "markdown",
   "metadata": {},
   "source": [
    "Voici quelques fonctions que vous pouvez implémenter si vous en avez le temps:\n",
    "1. modification de la luminosité d'une image (avec un slider pour la sélection)\n",
    "1. flou de l'image, chaque pixel est remplacé par la moyenne de ses voisins et de lui-même\n",
    "1. bruitage de l'image, chaque pixel est modifié par une valeur aléatoire\n",
    "1. implémenter une méthode de dithering pour obtenir une image en noir et blanc plus subtile (au lieu de prendre un seuil\n",
    "à 127, on tire aléaoirement la valeur du pixel avec une probabilité qui dépend de sa luminosité)\n",
    "1. mode stylo, qui permet avec la souris d'écrire des pixels noirs sur l'image "
   ]
  },
  {
   "cell_type": "markdown",
   "metadata": {},
   "source": []
  }
 ],
 "metadata": {
  "kernelspec": {
   "display_name": "Python 3.9.7 ('l1-python')",
   "language": "python",
   "name": "python3"
  },
  "language_info": {
   "codemirror_mode": {
    "name": "ipython",
    "version": 3
   },
   "file_extension": ".py",
   "mimetype": "text/x-python",
   "name": "python",
   "nbconvert_exporter": "python",
   "pygments_lexer": "ipython3",
   "version": "3.11.7"
  },
  "vscode": {
   "interpreter": {
    "hash": "7d87edbe593bf1e4e96623606fa487dbb5c6e9299b74648cb83b1cd8ad219f97"
   }
  }
 },
 "nbformat": 4,
 "nbformat_minor": 4
}
