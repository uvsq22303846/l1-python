{
 "cells": [
  {
   "attachments": {},
   "cell_type": "markdown",
   "metadata": {},
   "source": [
    "### Questions sur feuille\n",
    "\n",
    "\n",
    "* Donner le code de Hamming (7,4) du message 0010\n",
    "* Décoder le message codé pa le code de Hamming (7,4) 1001101. Y-a-t-il une erreur et si oui à quelle position ?\n",
    "\n",
    "\n",
    "### Stéganographie\n",
    "\n",
    "On vous donne les fonctions suivantes pour charger et afficher une image dans une interface tkinter.\n"
   ]
  },
  {
   "cell_type": "code",
   "execution_count": 11,
   "metadata": {},
   "outputs": [],
   "source": [
    "import tkinter as tk\n",
    "import numpy as np\n",
    "import PIL as pil\n",
    "from PIL import Image\n",
    "from PIL import ImageTk \n",
    "from tkinter import filedialog\n",
    "from tkinter import simpledialog\n",
    "\n",
    "def save(matPix, filename):\n",
    "    Image.fromarray(matPix).save(filename)\n",
    "\n",
    "def load(filename):\n",
    "    return np.array(pil.Image.open(filename))\n",
    "\n",
    "create=True\n",
    "nomImgCourante=\"\"\n",
    "nomImgDebut = \"\"\n",
    "\n",
    "def charger(widg):\n",
    "    global create\n",
    "    global photo\n",
    "    global img\n",
    "    global canvas\n",
    "    global dessin\n",
    "    global nomImgCourante\n",
    "    global nomImgDebut\n",
    "    filename= filedialog.askopenfile(mode='rb', title='Choose a file')\n",
    "    img = pil.Image.open(filename)\n",
    "    nomImgCourante=filename.name\n",
    "    nomImgDebut = filename.name\n",
    "    photo = ImageTk.PhotoImage(img)\n",
    "    if create:    \n",
    "        canvas = tk.Canvas(widg, width = img.size[0], height = img.size[1])\n",
    "        dessin = canvas.create_image(0,0,anchor = tk.NW, image=photo)\n",
    "        canvas.grid(row=0,column=1,rowspan=4,columnspan=2)\n",
    "        create=False\n",
    "        \n",
    "    else:\n",
    "        canvas.grid_forget()\n",
    "        canvas = tk.Canvas(widg, width = img.size[0], height = img.size[1])\n",
    "        dessin=canvas.create_image(0,0,anchor = tk.NW, image=photo)\n",
    "        canvas.grid(row=0,column=1,rowspan=4,columnspan=2)\n",
    "        \n",
    "def modify(matrice):\n",
    "    global imgModif\n",
    "    global nomImgCourante\n",
    "    save(matrice,\"modif.png\")\n",
    "    imgModif=ImageTk.PhotoImage(file=\"modif.png\")\n",
    "    canvas.itemconfigure(dessin, image=imgModif)\n",
    "    canvas['width'] = imgModif.width()\n",
    "    canvas['height'] = imgModif.height()\n",
    "    nomImgCourante=\"modif.png\""
   ]
  },
  {
   "cell_type": "markdown",
   "metadata": {},
   "source": [
    "Ecrire une fonction qui renvoie l'équivalent en entier des `k` derniers bits d'un nombre."
   ]
  },
  {
   "cell_type": "code",
   "execution_count": 5,
   "metadata": {},
   "outputs": [
    {
     "name": "stdout",
     "output_type": "stream",
     "text": [
      "7\n",
      "3\n",
      "28\n"
     ]
    }
   ],
   "source": [
    "def derniers_bits(x,k): #renvoie les k derniers bits de x\n",
    "   return x % (1 << k)\n",
    "\n",
    "print(derniers_bits(15,3))\n",
    "print(derniers_bits(7,2))\n",
    "print(derniers_bits(124,5))"
   ]
  },
  {
   "cell_type": "markdown",
   "metadata": {},
   "source": [
    "# Chiffrement"
   ]
  },
  {
   "cell_type": "markdown",
   "metadata": {},
   "source": [
    "Donner une fonction qui remplace les `k` derniers bits d'un nombre par les `k` derniers bits d'un autre nombre"
   ]
  },
  {
   "cell_type": "code",
   "execution_count": 9,
   "metadata": {},
   "outputs": [
    {
     "name": "stdout",
     "output_type": "stream",
     "text": [
      "8\n"
     ]
    }
   ],
   "source": [
    "def encoder_kbits(x,y,k): #remplace les k derniers bits de x par ceux de y et renvoie la valeur obtenue\n",
    "    return x - derniers_bits(x, k) + derniers_bits(y, k)\n",
    "\n",
    "print(encoder_kbits(15,8,3))"
   ]
  },
  {
   "cell_type": "markdown",
   "metadata": {},
   "source": [
    "Créer une fonction qui encode un entier `e` sur 8 bits dans les bits de poids faible d'un pixel : 3 derniers bits dans le canal rouge, 3 bits du milieu dans le canal vert et 2 premiers dans le canal bleu"
   ]
  },
  {
   "cell_type": "code",
   "execution_count": 13,
   "metadata": {},
   "outputs": [],
   "source": [
    "def encoder_entier(e,pixel):  #modifie les bits de poids faible de pixel pour stocker les 8 bits \n",
    "    #de l'entier e et renvoie le pixel modifié\n",
    "    rouge = encoder_kbits(pixel[0], e, 3)\n",
    "    vert = encoder_kbits(pixel[1], e >> 3, 3)\n",
    "    bleu = encoder_kbits(pixel[2], e >> 6, 2)\n",
    "    return (rouge, vert, bleu)\n",
    "    "
   ]
  },
  {
   "cell_type": "markdown",
   "metadata": {},
   "source": [
    "Quelle fonction permet de transformer un caractère en entier ?"
   ]
  },
  {
   "cell_type": "markdown",
   "metadata": {},
   "source": [
    "Créer une fonction qui encode un texte (récupéré dans un champ de texte) dans les bits de poids faibles des pixels d'une matrice de pixels, on remarquera qu'il faut également encoder la taille du message crypté si l'on souhaite pouvoir le décrypter."
   ]
  },
  {
   "cell_type": "code",
   "execution_count": 15,
   "metadata": {},
   "outputs": [],
   "source": [
    "def coder():\n",
    "    texte_a_cacher = entree.get()\n",
    "    mat = load(nomImgCourante)\n",
    "    mat[0, 0] = encoder_entier(len(texte_a_cacher), mat[0, 0])\n",
    "    i = 1\n",
    "    j = 0\n",
    "    count = 0\n",
    "    while count < len(texte_a_cacher):\n",
    "        mat[i][j] = encoder_entier((ord(texte_a_cacher[count])), mat[i][j])\n",
    "        j += 1\n",
    "        count += 1\n",
    "        if i >= mat.shape[0]:\n",
    "            i = 0\n",
    "            j += 1\n",
    "    modify(mat)"
   ]
  },
  {
   "cell_type": "markdown",
   "metadata": {},
   "source": [
    "# Déchiffrement"
   ]
  },
  {
   "cell_type": "markdown",
   "metadata": {},
   "source": [
    "Faire une fonction qui permet de décoder un entier (=un caractère) caché dans un pixel, ATTENTION à l'ordre des bits, on veut retourner un entier"
   ]
  },
  {
   "cell_type": "code",
   "execution_count": null,
   "metadata": {},
   "outputs": [],
   "source": [
    "def decoder_pixel(pixel):#renvoie le contenu des bits de poids faible des trois canaux du pixel sous la forme d'un entier\n",
    "    vr = derniers_bits(pixel[0], 3)\n",
    "    vg = derniers_bits(pixel[1], 3)\n",
    "    vb = derniers_bits(pixel[2], 2)\n",
    "    return vr + (vg << 3) + (vb << 6)"
   ]
  },
  {
   "cell_type": "markdown",
   "metadata": {},
   "source": [
    "Quelle fonction permet d'associer un caractère à un entier ?"
   ]
  },
  {
   "cell_type": "markdown",
   "metadata": {},
   "source": [
    "Créer une fonction qui permet de décoder un message caché dans une image selon l'algorithme que nous avons utilisé plus haut."
   ]
  },
  {
   "cell_type": "code",
   "execution_count": null,
   "metadata": {},
   "outputs": [],
   "source": [
    "def decoder():\n",
    "    mat=load(nomImgCourante)\n",
    "    sortie = \"\"\n",
    "    #compléter ici\n",
    "    label_decodage.config(text= sortie)\n",
    "    "
   ]
  },
  {
   "cell_type": "code",
   "execution_count": 14,
   "metadata": {},
   "outputs": [
    {
     "ename": "NameError",
     "evalue": "name 'coder' is not defined",
     "output_type": "error",
     "traceback": [
      "\u001b[0;31m---------------------------------------------------------------------------\u001b[0m",
      "\u001b[0;31mNameError\u001b[0m                                 Traceback (most recent call last)",
      "Cell \u001b[0;32mIn[14], line 8\u001b[0m\n\u001b[1;32m      4\u001b[0m entree \u001b[38;5;241m=\u001b[39m tk\u001b[38;5;241m.\u001b[39mEntry(affi, width \u001b[38;5;241m=\u001b[39m \u001b[38;5;241m20\u001b[39m  ,font \u001b[38;5;241m=\u001b[39m (\u001b[38;5;124m\"\u001b[39m\u001b[38;5;124mhelvetica\u001b[39m\u001b[38;5;124m\"\u001b[39m, \u001b[38;5;124m\"\u001b[39m\u001b[38;5;124m20\u001b[39m\u001b[38;5;124m\"\u001b[39m))\n\u001b[1;32m      5\u001b[0m entree\u001b[38;5;241m.\u001b[39mgrid(row \u001b[38;5;241m=\u001b[39m \u001b[38;5;241m0\u001b[39m, column \u001b[38;5;241m=\u001b[39m \u001b[38;5;241m0\u001b[39m)\n\u001b[0;32m----> 8\u001b[0m bouton_coder\u001b[38;5;241m=\u001b[39mtk\u001b[38;5;241m.\u001b[39mButton(affi, text\u001b[38;5;241m=\u001b[39m\u001b[38;5;124m\"\u001b[39m\u001b[38;5;124mCoder texte\u001b[39m\u001b[38;5;124m\"\u001b[39m,fg\u001b[38;5;241m=\u001b[39m\u001b[38;5;124m\"\u001b[39m\u001b[38;5;124mblack\u001b[39m\u001b[38;5;124m\"\u001b[39m, width\u001b[38;5;241m=\u001b[39m\u001b[38;5;241m15\u001b[39m, command\u001b[38;5;241m=\u001b[39m\u001b[43mcoder\u001b[49m)\n\u001b[1;32m      9\u001b[0m bouton_coder\u001b[38;5;241m.\u001b[39mgrid(row\u001b[38;5;241m=\u001b[39m\u001b[38;5;241m1\u001b[39m,column\u001b[38;5;241m=\u001b[39m\u001b[38;5;241m0\u001b[39m)\n\u001b[1;32m     11\u001b[0m bouton_decoder\u001b[38;5;241m=\u001b[39mtk\u001b[38;5;241m.\u001b[39mButton(affi,text\u001b[38;5;241m=\u001b[39m\u001b[38;5;124m\"\u001b[39m\u001b[38;5;124mDécoder texte\u001b[39m\u001b[38;5;124m\"\u001b[39m,fg\u001b[38;5;241m=\u001b[39m\u001b[38;5;124m\"\u001b[39m\u001b[38;5;124mblack\u001b[39m\u001b[38;5;124m\"\u001b[39m,  width\u001b[38;5;241m=\u001b[39m\u001b[38;5;241m15\u001b[39m,command\u001b[38;5;241m=\u001b[39mdecoder)\n",
      "\u001b[0;31mNameError\u001b[0m: name 'coder' is not defined"
     ]
    }
   ],
   "source": [
    "affi=tk.Tk()\n",
    "affi.title(\"Stéganographie\")\n",
    "\n",
    "entree = tk.Entry(affi, width = 20  ,font = (\"helvetica\", \"20\"))\n",
    "entree.grid(row = 0, column = 0)\n",
    "\n",
    "\n",
    "bouton_coder=tk.Button(affi, text=\"Coder texte\",fg=\"black\", width=15, command=coder)\n",
    "bouton_coder.grid(row=1,column=0)\n",
    "\n",
    "bouton_decoder=tk.Button(affi,text=\"Décoder texte\",fg=\"black\",  width=15,command=decoder)\n",
    "bouton_decoder.grid(row=2,column=0)\n",
    "\n",
    "label_decodage=tk.Label(affi, text = \"Décode moi !\")\n",
    "label_decodage.grid(row=3,column=0)\n",
    "\n",
    "bouton = tk.Button(affi, text=\"Charger\", fg=\"black\", width=15, command=lambda :charger(affi))\n",
    "bouton.grid(row=5,column=0)\n",
    "\n",
    "btn = tk.Button(affi, text=\"Quitter\", fg=\"black\", width=8, command=fermer_fenetre)\n",
    "btn.grid(row=5,column=2, sticky='E')\n",
    "\n",
    "affi.mainloop()"
   ]
  }
 ],
 "metadata": {
  "kernelspec": {
   "display_name": "Python 3",
   "language": "python",
   "name": "python3"
  },
  "language_info": {
   "codemirror_mode": {
    "name": "ipython",
    "version": 3
   },
   "file_extension": ".py",
   "mimetype": "text/x-python",
   "name": "python",
   "nbconvert_exporter": "python",
   "pygments_lexer": "ipython3",
   "version": "3.11.7"
  }
 },
 "nbformat": 4,
 "nbformat_minor": 4
}
