{
 "cells": [
  {
   "cell_type": "markdown",
   "metadata": {},
   "source": [
    "# Échauffement de Huffman\n",
    "\n",
    "1. Donner la table des fréquences puis l'arbre de Huffman du texte suivant: `ceci est un exemple de code de Huffman, le construire c'est le maitriser`\n",
    "2. Utiliser l'arbre de Huffman construit pour coder le texte (ou au moins ses première lettres) et comparer la taille du texte compressé à la taille du texte original en ASCII."
   ]
  },
  {
   "cell_type": "code",
   "execution_count": 3,
   "metadata": {},
   "outputs": [
    {
     "name": "stdout",
     "output_type": "stream",
     "text": [
      "  : 12\n",
      "' : 1\n",
      ", : 1\n",
      "H : 1\n",
      "a : 2\n",
      "c : 5\n",
      "d : 3\n",
      "e : 13\n",
      "f : 2\n",
      "i : 4\n",
      "l : 3\n",
      "m : 3\n",
      "n : 3\n",
      "o : 2\n",
      "p : 1\n",
      "r : 4\n",
      "s : 4\n",
      "t : 4\n",
      "u : 3\n",
      "x : 1\n",
      "72\n"
     ]
    }
   ],
   "source": [
    "def get_stat_letter(texte):\n",
    "    for i in range(128):\n",
    "        frequence = texte.count(chr(i))\n",
    "        if frequence != 0:\n",
    "            print(chr(i) + \" : \" + str(texte.count(chr(i))))\n",
    "\n",
    "texte = \"ceci est un exemple de code de Huffman, le construire c'est le maitriser\"\n",
    "get_stat_letter(texte)\n",
    "print(len(texte))"
   ]
  },
  {
   "attachments": {},
   "cell_type": "markdown",
   "metadata": {},
   "source": [
    "# Compression LZ77\n",
    "\n",
    "\n",
    "L'algorithme marche de la façon suivante:\n",
    "\n",
    "* On a une chaîne de caractères en entrée et on commence en se plaçant sur le premier caractère\n",
    "\n",
    "* Sur un caractère donné on cherche le plus grand sous-mot qui commence par cette lettre et\n",
    "  qui apparaît aussi avant. Par exemple si on est en troisième position dans an**a**nas alors le plus long sous-mot est *ana*.\n",
    " \n",
    "* On code ce sous-mot en faisant référence à sa précédente occurrence. Dans l'exemple précédent, \n",
    "  le sous-mot fait trois lettres et commence deux lettres avant, on le code par (2,3).\n",
    "\n",
    "* Si le plus grand sous-mot trouvé est de taille inférieure ou égale à 2, on écrit juste la lettre.\n",
    "\n",
    "\n",
    "Généralement on borne la fenêtre de recherche dans laquelle on cherche un sous-mot identique afin de limiter le temps de calcul quand on compresse de grands textes."
   ]
  },
  {
   "cell_type": "markdown",
   "metadata": {},
   "source": [
    "1. Donner le résultat de la compression de `aaaaaaaaaaaaaaaaa`.\n",
    "2. Donner le résultat de la compression de `Chabadi chabada chabababa`.\n",
    "3. Décompresser le message suivant: `Si, six(4, 2)cies(6, 5)nt(17, 5)cyprès, alor(25, 3)(18, 4)(27, 8)(44, 10)ro(46, 8)(55, 14)`."
   ]
  },
  {
   "cell_type": "markdown",
   "metadata": {},
   "source": [
    "# Implémentation\n",
    "\n",
    "On va compléter le code suivant, pour construire un petit compresseur LZ77.\n",
    "\n"
   ]
  },
  {
   "cell_type": "code",
   "execution_count": null,
   "metadata": {},
   "outputs": [],
   "source": [
    "import tkinter as tk\n",
    "\n",
    "taille_fenetre = 100 #Taille de la fenêtre de recherche\n",
    "min_match = 3 #Taille du plus petit match permis\n",
    "\n",
    "\n",
    "def match_size(mot,i,j): #renvoie la valeur du plus grand sous-mot commun,\n",
    "                       #dans le mot aux positions i et j avec j < i\n",
    "    k = 0\n",
    "    while i+k < len(mot) and mot[i + k] == mot[j + k]:\n",
    "        k += 1\n",
    "    return k\n",
    "\n",
    "def max_match(mot,i): #renvoie le couple (position,taille) du plus grand match \n",
    "                      #trouvé dans mot à partir de la position i\n",
    "    j = max(0,i-taille_fenetre)  #première position où chercher un match\n",
    "    max_match = (0,0)\n",
    "    while j < i: #on cherche un match dans la fenetre de recherche\n",
    "        #à compléter\n",
    "        j += 1\n",
    "    return max_match\n",
    "\n",
    "\n",
    "def compresse():\n",
    "    texte_a_compresser = entree.get()\n",
    "    texte_compresse = [] #cette liste doit etre étendue pour contenir le texte compressé\n",
    "    #construction du code LZ77\n",
    "    i = 0\n",
    "    while i < len(texte_a_compresser): #pour chaque lettre du texte\n",
    "        pass\n",
    "        #à compléter en utilisant les fonctions précédemment codées\n",
    "    affichage_compression.config(text = str(texte_compresse)) #affichage du texte compressé \n",
    "    \n",
    "    \n",
    "\n",
    "def taille(liste_LZ):# calcule la taille de la liste. Un caractère compte 1 et \n",
    "                                   # une paire d'entier compte 2\n",
    "    taille = 0\n",
    "    for elem in liste_LZ:\n",
    "        pass\n",
    "        #à compléter\n",
    "    return taille\n",
    "\n",
    "def changeFenetre():\n",
    "    global taille_fenetre\n",
    "    taille_fenetre = int(entree_fenetre.get())\n",
    "    \n",
    "def match2():\n",
    "    global min_match\n",
    "    min_match = 2\n",
    "    \n",
    "def match3():\n",
    "    global min_match\n",
    "    min_match = 3\n",
    "\n",
    "racine = tk.Tk()\n",
    "racine.title(\"Compression de texte\")\n",
    "\n",
    "entree = tk.Entry(racine, width = 100,font = (\"helvetica\", \"20\"))\n",
    "entree.grid(row = 1, column = 0)\n",
    "\n",
    "\n",
    "entree_fenetre = tk.Entry(racine, width = 100,font = (\"helvetica\", \"20\"))\n",
    "entree_fenetre.grid(row = 0, column = 0)\n",
    "\n",
    "bouton_fenetre = tk.Button(racine, text = \"Régler la fenetre de recherche\", command = changeFenetre, font = (\"helvetica\", \"30\"))\n",
    "bouton_fenetre.grid(row = 0, column = 1)\n",
    "\n",
    "affichage_compression = tk.Message(racine, font = (\"helvetica\", \"20\"), width = 1000)\n",
    "affichage_compression.grid(row = 2, column = 0, columnspan = 2)\n",
    "\n",
    "\n",
    "affichage_decompression = tk.Message(racine, font = (\"helvetica\", \"20\"), width = 1000)\n",
    "affichage_decompression.grid(row = 5, column = 0, columnspan = 2)\n",
    "\n",
    "\n",
    "affichage_binaire = tk.Message(racine, font = (\"helvetica\", \"20\"), width = 1000)\n",
    "affichage_binaire.grid(row = 6, column = 0, columnspan = 2)\n",
    "\n",
    "\n",
    "bouton_compresser = tk.Button(racine, text = \"Compresser\", command = compresse, font = (\"helvetica\", \"30\"))\n",
    "bouton_compresser.grid(row = 1, column = 1)\n",
    "\n",
    "\n",
    "bouton_match2 = tk.Button(racine, text = \"Match minimal de taille 2\", command = match2, font = (\"helvetica\", \"30\"))\n",
    "bouton_match2.grid(row = 4, column = 0)\n",
    "\n",
    "\n",
    "bouton_match3 = tk.Button(racine, text = \"Match minimal de taille 3\", command = match3, font = (\"helvetica\", \"30\"))\n",
    "bouton_match3.grid(row = 4, column = 1)\n",
    "\n",
    "resultat = tk.Label(racine, font = (\"helvetica\", \"20\"))\n",
    "resultat.grid(row = 3, column = 0, columnspan = 2)\n",
    "\n",
    "\n",
    "racine.mainloop()"
   ]
  },
  {
   "cell_type": "markdown",
   "metadata": {},
   "source": [
    "1. Compléter la fonction `match_size(mot,i,j)` qui trouve le plus grand sous-mot commun aux positions `i` et `j`\n",
    "   de la chaîne de caractère `mot`. On appelle un tel sous mot un *match*.\n",
    "   \n",
    "2. Compléter la fonction `max_match(mot,i)` qui trouve le plus grand match pour la position `i` de la chaîne de caractère `mot`. La fonction renvoie une paire d'entiers qui contient la position par rapport à `i` de ce match\n",
    "   et sa taille.\n",
    "3. Compléter la fonction `compresse` qui crée une liste de caratères et de paires d'entiers correspondant au code LZ77 du texte entrée, se trouvant dans la variable `texte_a_compresser`.\n",
    "4. Compléter la fonction `taille` qui calcule la taille du texte compressé, en comptant 1 pour les lettres et 2 pour les paires d'entiers. Pour distinguer un caractère d'une paire d'entiers dans la liste, on pourra utiliser\n",
    "   `isinstance(elem,str)` qui est vrai si et seulement si elem est une chaîne de caractère (les caractères en python sont des chaînes de caractère de taille 1).\n",
    "5. Ajouter un label ou plusieurs labels pour afficher les informations suivantes: la taille de la fenêtre de recherche, la taille du texte original et le rapport de compression (taille/taille_compressée).\n",
    "6. Permettre à l'utilisateur de changer la taille de la fenêtre de recherche. Que se passe-t-il quand on change sa valeur.\n",
    "7. Que se passe-t-il quand on interdit les matchs de taille 2 ? Et les matchs de taille 3 ?\n",
    "8. Est-ce que l'algorithme proposé trouve un code LZ optimal en terme de taille.\n",
    "9. (Optionnel) Proposer un codage binaire d'un code LZ77 et écrire le code qui affiche un tel code binaire.\n",
    "   On supposera l'entrée donnée en ASCI (sur 7 bits). On pourra coder les entiers ainsi que les caractères sur 8 bits. Attention, il faut différencier les caractères et les paires d'entiers.\n"
   ]
  },
  {
   "cell_type": "code",
   "execution_count": null,
   "metadata": {},
   "outputs": [],
   "source": [
    "²def entier_kbits(n,k):#donne l'écriture binaire d'un entier comme une liste de k 0 et 1\n",
    "    res = []\n",
    "    i = 0\n",
    "    while i < k:\n",
    "        if n%2 == 1:\n",
    "            res.append(1)\n",
    "        else:\n",
    "            res.append(0)\n",
    "        n = n//2\n",
    "        i +=1\n",
    "    res.reverse()\n",
    "    return res\n",
    "\n",
    "def code_binaire(texte_compresse): #construit la suite de bits qui représentera texte_compresse en memoire\n",
    "    res = []\n",
    "    for elem in texte_compresse:\n",
    "        pass\n",
    "        #à compléter\n",
    "    return res\n",
    "\n",
    "\n",
    "def decompresse(texte_compresse): #texte_compresse est une liste de caractère et\n",
    "                                  # de paires d'entiers (ce qui est produit par compresse)\n",
    "    res = [] # liste des caractères obtenus par decompression\n",
    "    for i in range(len(texte_compresse)):\n",
    "        if isinstance(texte_compresse[i],str):\n",
    "            pass\n",
    "            #à compléter (recopie une lettre)\n",
    "        else:\n",
    "            pass\n",
    "            #à compléter (recopie un bloc de lettres)\n",
    "    return \"\".join(res)\n"
   ]
  },
  {
   "cell_type": "markdown",
   "metadata": {},
   "source": [
    "Compléter le code précédent pour décoder la liste passé en argument.\n",
    "Vous décoderez le code créé par la fonction `compresse` à l'aide de la fonction `decompresse` et vous afficherez le résultat dans un nouveau label."
   ]
  },
  {
   "cell_type": "code",
   "execution_count": null,
   "metadata": {},
   "outputs": [],
   "source": []
  }
 ],
 "metadata": {
  "kernelspec": {
   "display_name": "l1-python",
   "language": "python",
   "name": "python3"
  },
  "language_info": {
   "codemirror_mode": {
    "name": "ipython",
    "version": 3
   },
   "file_extension": ".py",
   "mimetype": "text/x-python",
   "name": "python",
   "nbconvert_exporter": "python",
   "pygments_lexer": "ipython3",
   "version": "3.11.7"
  },
  "vscode": {
   "interpreter": {
    "hash": "6f118f2210741b69cbc7210d3ec59cb8c99e7985adfe2966f851dec94eec13ea"
   }
  }
 },
 "nbformat": 4,
 "nbformat_minor": 4
}
