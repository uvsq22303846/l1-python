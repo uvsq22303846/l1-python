{
 "cells": [
  {
   "cell_type": "markdown",
   "metadata": {},
   "source": [
    "Commencer par importer 'tkinter' et les librairies nécessaires à l'aide des commandes suivantes :"
   ]
  },
  {
   "cell_type": "code",
   "execution_count": 6,
   "metadata": {},
   "outputs": [],
   "source": [
    "import tkinter as tk\n",
    "import PIL as pil\n",
    "from PIL import Image\n",
    "from PIL import ImageTk \n",
    "from tkinter import filedialog\n",
    "from tkinter import simpledialog"
   ]
  },
  {
   "attachments": {},
   "cell_type": "markdown",
   "metadata": {},
   "source": [
    "Vous pouvez consulter la documentation de tkinter https://docs.python.org/fr/3/library/tk.html et une documentation en français http://tkinter.fdex.eu/.\n",
    "Créer une fenêtre tkinter qui a pour titre \"J'apprends Tkinter\" et qui affiche le texte \"J'adore Python !\" dans la fenêtre"
   ]
  },
  {
   "cell_type": "code",
   "execution_count": null,
   "metadata": {},
   "outputs": [],
   "source": [
    "root = tk.Tk()\n",
    "root.title(\"J'apprends Tkinter\")\n",
    "tk.Label(root, text = \"J'adore Python !\").grid()\n",
    "root.mainloop()"
   ]
  },
  {
   "cell_type": "markdown",
   "metadata": {},
   "source": [
    "Toujours dans la même fenêtre, ajouter maintenant un bouton permettant de quitter la fenêtre, il faudra pour cela \n",
    "créer une fonction callback `fermer_fenetre` qui appelle la méthode `destroy()`"
   ]
  },
  {
   "cell_type": "code",
   "execution_count": null,
   "metadata": {},
   "outputs": [],
   "source": [
    "root = tk.Tk()\n",
    "root.title(\"J'apprends Tkinter\")\n",
    "tk.Label(root, text = \"J'adore Python !\").pack()\n",
    "tk.Button(root, text = \"Quitter\", command = root.destroy).pack()\n",
    "root.mainloop()"
   ]
  },
  {
   "cell_type": "markdown",
   "metadata": {},
   "source": [
    "Maintenant nous allons modifier la disposition des différents éléments en utilisant une grille pour positionner les éléments dans la fenêtre. Ajouter un canevas rouge à droite du label et du bouton."
   ]
  },
  {
   "cell_type": "code",
   "execution_count": null,
   "metadata": {},
   "outputs": [],
   "source": [
    "root = tk.Tk()\n",
    "root.title(\"J'apprends Tkinter\")\n",
    "tk.Label(root, text = \"J'adore Python !\").grid(row = 0, column = 0)\n",
    "tk.Button(root, text = \"Quitter\", command = root.destroy).grid(row = 1, column = 0)\n",
    "tk.Canvas(root, width = 300, height = 300, bg = 'red').grid(row = 0, column = 1, rowspan = 2)\n",
    "root.mainloop()"
   ]
  },
  {
   "cell_type": "markdown",
   "metadata": {},
   "source": [
    "Ajouter un canevas noir en dessous du canevas rouge précédent. Faire une fonction qui permet de compter le nombre de clics sur le carré rouge. Afficher cette valeur dans le label qui servait à afficher \"j'adore python\". Attention, le compteur du nombre de clics est appelé dans une fonction callback, il faut donc le récupérer en dehors de cette fonction en le déclarant comme variable globale. Utiliser la méthode `bind` pour récupérer le clic de souris."
   ]
  },
  {
   "cell_type": "code",
   "execution_count": null,
   "metadata": {},
   "outputs": [],
   "source": [
    "nombre_de_clics = 0\n",
    "root = tk.Tk()\n",
    "root.title(\"J'apprends Tkinter\")\n",
    "message = tk.Label(root, text = \"J'adore Python !\")\n",
    "bouton = tk.Button(root, text = \"Quitter\", command = root.destroy)\n",
    "canevas_rouge = tk.Canvas(root, width = 300, height = 300, bg = \"red\")\n",
    "canevas_noir = tk.Canvas(root, width = 300, height = 300, bg = \"black\")\n",
    "\n",
    "def clics(event):\n",
    "    global nombre_de_clics\n",
    "    nombre_de_clics += 1\n",
    "    message.config(text = \"Nombre de clics sur le carré rouge : \" + str(nombre_de_clics))\n",
    "\n",
    "message.grid(column = 0, row = 1)\n",
    "bouton.grid(column = 0, row = 2)\n",
    "canevas_rouge.grid(column = 1, row = 0, rowspan = 2)\n",
    "canevas_noir.grid(column = 1, row = 2, rowspan = 2)\n",
    "canevas_rouge.bind(\"<Button-1>\", clics)\n",
    "\n",
    "root.mainloop()"
   ]
  },
  {
   "cell_type": "markdown",
   "metadata": {},
   "source": [
    "Créer une unique fonction qui renvoie la couleur du canevas sur lequel on a double-cliqué.\n",
    "Afficher la couleur à la place du compteur précédent."
   ]
  },
  {
   "cell_type": "code",
   "execution_count": null,
   "metadata": {},
   "outputs": [],
   "source": [
    "root = tk.Tk()\n",
    "root.title(\"J'apprends Tkinter\")\n",
    "message = tk.Label(root, text = \"J'adore Python !\")\n",
    "bouton = tk.Button(root, text = \"Quitter\", command = root.destroy)\n",
    "canevas_rouge = tk.Canvas(root, width = 300, height = 300, bg = \"red\")\n",
    "canevas_noir = tk.Canvas(root, width = 300, height = 300, bg = \"black\")\n",
    "\n",
    "def double_clics(event):\n",
    "    couleur = event.widget.cget(\"bg\")\n",
    "    message.config(text = \"Couleur du canevas : \" + couleur)\n",
    "\n",
    "message.grid(column = 0, row = 1)\n",
    "bouton.grid(column = 0, row = 2)\n",
    "canevas_rouge.grid(column = 1, row = 0, rowspan = 2)\n",
    "canevas_noir.grid(column = 1, row = 2, rowspan = 2)\n",
    "\n",
    "canevas_rouge.bind(\"<Double-1>\", double_clics)\n",
    "canevas_noir.bind(\"<Double-1>\", double_clics)"
   ]
  },
  {
   "cell_type": "markdown",
   "metadata": {},
   "source": [
    "root = tk.Tk()\n",
    "root.title(\"J'apprends Tkinter\")\n"
   ]
  },
  {
   "cell_type": "markdown",
   "metadata": {},
   "source": [
    "REMARQUE : Attention à ne pas mettre deux `bind` différents qui se déclenchent \n",
    "sur une même action sinon seul le dernier sera réalisé.\n",
    "En effet, la variable `event` va être modifiée deux fois et seule sa dernière modification sera donc prise en compte."
   ]
  },
  {
   "cell_type": "markdown",
   "metadata": {},
   "source": [
    "Créer une nouvelle fenêtre qui permet de charger une image depuis un fichier en utilisant la fonction `charger(widg)`. \n",
    "Vous allez devoir passer un paramètre dans la fonction callback `charger`. On ne demande pas de comprendre le fonctionnement de la fonction `charger`."
   ]
  },
  {
   "cell_type": "code",
   "execution_count": null,
   "metadata": {},
   "outputs": [],
   "source": [
    "create=True\n",
    "\n",
    "def charger(widg):\n",
    "    global create\n",
    "    global photo\n",
    "    global img\n",
    "    global canvas\n",
    "    filename= filedialog.askopenfile(mode='rb', title='Choose a file')\n",
    "    img = pil.Image.open(filename)\n",
    "    photo = ImageTk.PhotoImage(img)\n",
    "    print(photo)\n",
    "    if create:    \n",
    "        canvas = tk.Canvas(widg, width = img.size[0], height = img.size[1])\n",
    "        canvas.create_image(0,0,anchor = tk.NW, image=photo)\n",
    "        canvas.pack()\n",
    "        create=False\n",
    "        \n",
    "    else:\n",
    "        canvas.pack_forget()\n",
    "        canvas = tk.Canvas(widg, width = img.size[0], height = img.size[1])\n",
    "        canvas.create_image(0,0,anchor = tk.NW, image=photo)\n",
    "        canvas.pack()"
   ]
  },
  {
   "cell_type": "code",
   "execution_count": null,
   "metadata": {},
   "outputs": [],
   "source": []
  },
  {
   "attachments": {},
   "cell_type": "markdown",
   "metadata": {},
   "source": [
    "Faire une fenêtre qui :\n",
    "- Permet d'écrire dans une zone de texte\n",
    "- contient un label d'affichage\n",
    "- contient deux boutons, respectivement \"Bouton1\" et \"Bouton2\" permettant d'afficher dans le label le numéro du bouton sur lequel on a cliqué\n",
    "- contient un dernier bouton qui permet d'afficher dans le label le texte tapé dans la zone de texte"
   ]
  },
  {
   "cell_type": "code",
   "execution_count": null,
   "metadata": {},
   "outputs": [],
   "source": []
  }
 ],
 "metadata": {
  "kernelspec": {
   "display_name": "Python 3",
   "language": "python",
   "name": "python3"
  },
  "language_info": {
   "codemirror_mode": {
    "name": "ipython",
    "version": 3
   },
   "file_extension": ".py",
   "mimetype": "text/x-python",
   "name": "python",
   "nbconvert_exporter": "python",
   "pygments_lexer": "ipython3",
   "version": "3.11.7"
  }
 },
 "nbformat": 4,
 "nbformat_minor": 4
}
